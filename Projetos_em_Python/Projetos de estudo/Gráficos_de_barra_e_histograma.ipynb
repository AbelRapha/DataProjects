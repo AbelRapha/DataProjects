{
  "nbformat": 4,
  "nbformat_minor": 0,
  "metadata": {
    "colab": {
      "name": "Gráficos de barra e histograma",
      "provenance": [],
      "authorship_tag": "ABX9TyP9ItDi/2Q/ITwQLZhSqA4t",
      "include_colab_link": true
    },
    "kernelspec": {
      "name": "python3",
      "display_name": "Python 3"
    },
    "language_info": {
      "name": "python"
    }
  },
  "cells": [
    {
      "cell_type": "markdown",
      "metadata": {
        "id": "view-in-github",
        "colab_type": "text"
      },
      "source": [
        "<a href=\"https://colab.research.google.com/github/AbelRapha/DataProjects/blob/main/Projetos%20em%20Python/Gr%C3%A1ficos_de_barra_e_histograma.ipynb\" target=\"_parent\"><img src=\"https://colab.research.google.com/assets/colab-badge.svg\" alt=\"Open In Colab\"/></a>"
      ]
    },
    {
      "cell_type": "code",
      "metadata": {
        "colab": {
          "base_uri": "https://localhost:8080/",
          "height": 295
        },
        "id": "8YYxJSiBAQUW",
        "outputId": "d288422a-5b90-4bc7-be4f-755abe83b0f8"
      },
      "source": [
        "import  matplotlib.pyplot as plt\n",
        "\n",
        "x = list(range(2004,2015))\n",
        "y = [4,42,44,48,35,57,99,94,75,52,23]\n",
        "\n",
        "plt.bar(x,y,color = 'purple')\n",
        "plt.title(\"Nivel Sistema Cantareira\")\n",
        "plt.xlabel(\"Ano\")\n",
        "plt.ylabel(\"Nivel(%)\")\n",
        "plt.grid()\n",
        "plt.show()"
      ],
      "execution_count": null,
      "outputs": [
        {
          "output_type": "display_data",
          "data": {
            "image/png": "[encoded data removed]",
            "text/plain": [
              "<Figure size 432x288 with 1 Axes>"
            ]
          },
          "metadata": {
            "needs_background": "light"
          }
        }
      ]
    },
    {
      "cell_type": "markdown",
      "metadata": {
        "id": "-4G-I9GgdAIi"
      },
      "source": [
        "Gráfico de Frequência Relativa\n"
      ]
    },
    {
      "cell_type": "code",
      "metadata": {
        "colab": {
          "base_uri": "https://localhost:8080/",
          "height": 302
        },
        "id": "D5OOqGnqdFcT",
        "outputId": "7326b8ae-e9ec-47d3-e192-b69bd7df3bc3"
      },
      "source": [
        "total = sum(y) #Somatoria das frequencias de cada elemento de y\n",
        "p = []\n",
        "for yi in y:\n",
        "  p.append(yi/total) #calculo da frequencia relativa para cada elemento da lista y\n",
        "print(p)\n",
        "plt.bar(x,p,color = \"blue\")\n",
        "plt.grid()\n",
        "plt.show()"
      ],
      "execution_count": null,
      "outputs": [
        {
          "output_type": "stream",
          "text": [
            "[0.006980802792321117, 0.07329842931937172, 0.07678883071553229, 0.08376963350785341, 0.06108202443280977, 0.09947643979057591, 0.17277486910994763, 0.16404886561954624, 0.13089005235602094, 0.09075043630017451, 0.04013961605584642]\n"
          ],
          "name": "stdout"
        },
        {
          "output_type": "display_data",
          "data": {
            "image/png": "[encoded data removed]",
            "text/plain": [
              "<Figure size 432x288 with 1 Axes>"
            ]
          },
          "metadata": {
            "needs_background": "light"
          }
        }
      ]
    },
    {
      "cell_type": "markdown",
      "metadata": {
        "id": "Gh0v1aDKGoHS"
      },
      "source": [
        "Lançamento dos dados"
      ]
    },
    {
      "cell_type": "code",
      "metadata": {
        "colab": {
          "base_uri": "https://localhost:8080/",
          "height": 282
        },
        "id": "uLrS_94t_r1u",
        "outputId": "858cb2fb-ec63-4ad9-c77e-e6b95741a036"
      },
      "source": [
        "import random\n",
        "from collections import Counter\n",
        "i = 0\n",
        "face = [] #Crio uma lista de faces em que sera gerado aleatoriamento pela funcao randint\n",
        "while i < 30:\n",
        "  face.append(random.randint(1,6)) #Adiciono ao final o valor gerado aleatorio e isso se repete ate a quantidade de 30 lancamentos\n",
        "  i += 1\n",
        "lancamentos = Counter(face) #Counter cria um dicionario onde ira apresentar a frequencia de vezes que cada numero se repetiu na lista de faces\n",
        "print(lancamentos)\n",
        "\n",
        "plt.bar(lancamentos.keys(),lancamentos.values())\n",
        "plt.show()"
      ],
      "execution_count": null,
      "outputs": [
        {
          "output_type": "stream",
          "text": [
            "Counter({5: 8, 1: 6, 2: 5, 6: 5, 3: 3, 4: 3})\n"
          ],
          "name": "stdout"
        },
        {
          "output_type": "display_data",
          "data": {
            "image/png": "[encoded data removed]",
            "text/plain": [
              "<Figure size 432x288 with 1 Axes>"
            ]
          },
          "metadata": {
            "needs_background": "light"
          }
        }
      ]
    },
    {
      "cell_type": "markdown",
      "metadata": {
        "id": "wAKGsGkrOfoy"
      },
      "source": [
        "Criando o histograma"
      ]
    },
    {
      "cell_type": "code",
      "metadata": {
        "colab": {
          "base_uri": "https://localhost:8080/",
          "height": 547
        },
        "id": "vEAlgrmoZvAy",
        "outputId": "496fa328-c9d0-4137-ec0e-1b58a192a45b"
      },
      "source": [
        "valores = []\n",
        "for i in range(0,31):\n",
        "  num = random.randint(1,6)\n",
        "  valores.append(num)\n",
        "print(valores)\n",
        "import numpy as np\n",
        "x = [1,2,3,4,5,6] #Faces do dado\n",
        "freq, bins = np.histogram(valores,bins = [1,2,3,4,5,6,7]) #Bins sao as faixas de 2 em 2\n",
        "print(freq)\n",
        "plt.bar(x,freq) #Gráfico de barra utilizando a biblioteca numpy and matplotlib\n",
        "plt.grid()\n",
        "plt.show()\n",
        "\n",
        "freq, bins = np.histogram(valores, bins = [1,3,5,7])\n",
        "plt.hist(valores,bins = [1,3,5,7])\n",
        "plt.grid()\n",
        "plt.show()"
      ],
      "execution_count": null,
      "outputs": [
        {
          "output_type": "stream",
          "text": [
            "[2, 4, 5, 3, 3, 6, 4, 1, 4, 4, 1, 5, 6, 1, 1, 3, 4, 2, 5, 6, 2, 2, 4, 1, 6, 6, 1, 4, 5, 4, 6]\n",
            "[6 4 3 8 4 6]\n"
          ],
          "name": "stdout"
        },
        {
          "output_type": "display_data",
          "data": {
            "image/png": "[encoded data removed]",
            "text/plain": [
              "<Figure size 432x288 with 1 Axes>"
            ]
          },
          "metadata": {
            "needs_background": "light"
          }
        },
        {
          "output_type": "display_data",
          "data": {
            "image/png": "[encoded data removed]",
            "text/plain": [
              "<Figure size 432x288 with 1 Axes>"
            ]
          },
          "metadata": {
            "needs_background": "light"
          }
        }
      ]
    }
  ]
}