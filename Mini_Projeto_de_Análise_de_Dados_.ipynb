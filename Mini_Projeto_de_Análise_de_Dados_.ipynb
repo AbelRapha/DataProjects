{
  "nbformat": 4,
  "nbformat_minor": 0,
  "metadata": {
    "kernelspec": {
      "display_name": "Python 3",
      "language": "python",
      "name": "python3"
    },
    "language_info": {
      "codemirror_mode": {
        "name": "ipython",
        "version": 3
      },
      "file_extension": ".py",
      "mimetype": "text/x-python",
      "name": "python",
      "nbconvert_exporter": "python",
      "pygments_lexer": "ipython3",
      "version": "3.8.3"
    },
    "colab": {
      "name": "Mini Projeto de Análise de Dados .ipynb",
      "provenance": [],
      "collapsed_sections": [],
      "include_colab_link": true
    }
  },
  "cells": [
    {
      "cell_type": "markdown",
      "metadata": {
        "id": "view-in-github",
        "colab_type": "text"
      },
      "source": [
        "<a href=\"https://colab.research.google.com/github/AbelRapha/DataProjects/blob/main/Mini_Projeto_de_An%C3%A1lise_de_Dados_.ipynb\" target=\"_parent\"><img src=\"https://colab.research.google.com/assets/colab-badge.svg\" alt=\"Open In Colab\"/></a>"
      ]
    },
    {
      "cell_type": "markdown",
      "metadata": {
        "id": "kJmfabjfixlk"
      },
      "source": [
        "# Exercício - Mini Projeto de Análise de Dados\n",
        "\n",
        "\n",
        "### O que temos?\n",
        "\n",
        "Temos os dados de 2019 de uma empresa de prestação de serviços. \n",
        "\n",
        "- CadastroFuncionarios\n",
        "- CadastroClientes\n",
        "- BaseServiçosPrestados\n",
        "\n",
        "### O que queremos saber/fazer?\n",
        "\n",
        "1. Valor Total da Folha Salarial -> Qual foi o gasto total com salários de funcionários pela empresa? <br>\n",
        "    \n",
        "    \n",
        "    \n",
        "2. Qual foi o faturamento da empresa?<br>\n",
        "   \n",
        "    \n",
        "    \n",
        "3. Qual o % de funcionários que já fechou algum contrato?<br>\n",
        "   \n",
        "    \n",
        "    \n",
        "4. Calcule o total de contratos que cada área da empresa já fechou\n",
        "\n",
        "\n",
        "5. Calcule o total de funcionários por área\n",
        "\n",
        "\n",
        "6. Qual o ticket médio mensal (faturamento médio mensal) dos contratos?<br>\n",
        "  "
      ]
    },
    {
      "cell_type": "code",
      "metadata": {
        "id": "iiqrk_05kHH0"
      },
      "source": [
        "import pandas as pd"
      ],
      "execution_count": 2,
      "outputs": []
    },
    {
      "cell_type": "code",
      "metadata": {
        "id": "l96QFEgbkIhA"
      },
      "source": [
        "TabelaFuncionarios = pd.read_csv(r\"/content/CadastroFuncionarios.csv\", sep = \";\", decimal = ',')"
      ],
      "execution_count": 4,
      "outputs": []
    },
    {
      "cell_type": "code",
      "metadata": {
        "id": "Sz0h4AIwkay_"
      },
      "source": [
        "TabelaClientes = pd.read_csv(r\"/content/CadastroClientes.csv\", sep = \";\", decimal = ',')"
      ],
      "execution_count": 7,
      "outputs": []
    },
    {
      "cell_type": "code",
      "metadata": {
        "id": "yIFMkzC8k2J-"
      },
      "source": [
        "TabelaServicos = pd.read_excel(r\"/content/BaseServiçosPrestados.xlsx\")"
      ],
      "execution_count": 9,
      "outputs": []
    },
    {
      "cell_type": "markdown",
      "metadata": {
        "id": "t6vjOaYLoJY6"
      },
      "source": [
        "Limpeza dos dados"
      ]
    },
    {
      "cell_type": "code",
      "metadata": {
        "colab": {
          "base_uri": "https://localhost:8080/",
          "height": 203
        },
        "id": "SGrIZ1Q_oKxu",
        "outputId": "1aa6e16e-be1b-41d8-839c-5d02fd867fed"
      },
      "source": [
        "TabelaFuncionarios.head()\n",
        "#retirar colunas estado civil e cargo\n",
        "funcionarios_df = TabelaFuncionarios.drop([\"Estado Civil\", 'Cargo'], axis = 1)\n",
        "funcionarios_df.head()"
      ],
      "execution_count": 21,
      "outputs": [
        {
          "output_type": "execute_result",
          "data": {
            "text/html": [
              "<div>\n",
              "<style scoped>\n",
              "    .dataframe tbody tr th:only-of-type {\n",
              "        vertical-align: middle;\n",
              "    }\n",
              "\n",
              "    .dataframe tbody tr th {\n",
              "        vertical-align: top;\n",
              "    }\n",
              "\n",
              "    .dataframe thead th {\n",
              "        text-align: right;\n",
              "    }\n",
              "</style>\n",
              "<table border=\"1\" class=\"dataframe\">\n",
              "  <thead>\n",
              "    <tr style=\"text-align: right;\">\n",
              "      <th></th>\n",
              "      <th>ID Funcionário</th>\n",
              "      <th>Nome Completo</th>\n",
              "      <th>Salario Base</th>\n",
              "      <th>Impostos</th>\n",
              "      <th>Beneficios</th>\n",
              "      <th>VT</th>\n",
              "      <th>VR</th>\n",
              "      <th>Area</th>\n",
              "    </tr>\n",
              "  </thead>\n",
              "  <tbody>\n",
              "    <tr>\n",
              "      <th>0</th>\n",
              "      <td>1</td>\n",
              "      <td>Gabriel Mesquita</td>\n",
              "      <td>21910</td>\n",
              "      <td>10955</td>\n",
              "      <td>4382</td>\n",
              "      <td>242</td>\n",
              "      <td>719,04</td>\n",
              "      <td>Operações</td>\n",
              "    </tr>\n",
              "    <tr>\n",
              "      <th>1</th>\n",
              "      <td>2</td>\n",
              "      <td>João Haddad</td>\n",
              "      <td>5404</td>\n",
              "      <td>2702</td>\n",
              "      <td>1080,8</td>\n",
              "      <td>154</td>\n",
              "      <td>574,56</td>\n",
              "      <td>Logística</td>\n",
              "    </tr>\n",
              "    <tr>\n",
              "      <th>2</th>\n",
              "      <td>3</td>\n",
              "      <td>Amanda Marques Ribeiro</td>\n",
              "      <td>16066</td>\n",
              "      <td>8033</td>\n",
              "      <td>3213,2</td>\n",
              "      <td>154</td>\n",
              "      <td>729,12</td>\n",
              "      <td>Administrativo</td>\n",
              "    </tr>\n",
              "    <tr>\n",
              "      <th>3</th>\n",
              "      <td>4</td>\n",
              "      <td>Guilherme Nunez</td>\n",
              "      <td>21305</td>\n",
              "      <td>10652,5</td>\n",
              "      <td>4261</td>\n",
              "      <td>220</td>\n",
              "      <td>524,16</td>\n",
              "      <td>Administrativo</td>\n",
              "    </tr>\n",
              "    <tr>\n",
              "      <th>4</th>\n",
              "      <td>5</td>\n",
              "      <td>Adelino Gomes</td>\n",
              "      <td>5098</td>\n",
              "      <td>2549</td>\n",
              "      <td>1019,6</td>\n",
              "      <td>176</td>\n",
              "      <td>725,76</td>\n",
              "      <td>Administrativo</td>\n",
              "    </tr>\n",
              "  </tbody>\n",
              "</table>\n",
              "</div>"
            ],
            "text/plain": [
              "   ID Funcionário           Nome Completo  ...      VR            Area\n",
              "0               1        Gabriel Mesquita  ...  719,04       Operações\n",
              "1               2             João Haddad  ...  574,56       Logística\n",
              "2               3  Amanda Marques Ribeiro  ...  729,12  Administrativo\n",
              "3               4         Guilherme Nunez  ...  524,16  Administrativo\n",
              "4               5           Adelino Gomes  ...  725,76  Administrativo\n",
              "\n",
              "[5 rows x 8 columns]"
            ]
          },
          "metadata": {},
          "execution_count": 21
        }
      ]
    },
    {
      "cell_type": "code",
      "metadata": {
        "colab": {
          "base_uri": "https://localhost:8080/",
          "height": 203
        },
        "id": "gbcARcrUo9tr",
        "outputId": "0b62d306-b9bf-41e2-af69-868b5bc58e0a"
      },
      "source": [
        "TabelaClientes.head()"
      ],
      "execution_count": 22,
      "outputs": [
        {
          "output_type": "execute_result",
          "data": {
            "text/html": [
              "<div>\n",
              "<style scoped>\n",
              "    .dataframe tbody tr th:only-of-type {\n",
              "        vertical-align: middle;\n",
              "    }\n",
              "\n",
              "    .dataframe tbody tr th {\n",
              "        vertical-align: top;\n",
              "    }\n",
              "\n",
              "    .dataframe thead th {\n",
              "        text-align: right;\n",
              "    }\n",
              "</style>\n",
              "<table border=\"1\" class=\"dataframe\">\n",
              "  <thead>\n",
              "    <tr style=\"text-align: right;\">\n",
              "      <th></th>\n",
              "      <th>ID Cliente</th>\n",
              "      <th>Cliente</th>\n",
              "      <th>Valor Contrato Mensal</th>\n",
              "    </tr>\n",
              "  </thead>\n",
              "  <tbody>\n",
              "    <tr>\n",
              "      <th>0</th>\n",
              "      <td>1</td>\n",
              "      <td>Teixeira Gonçalves</td>\n",
              "      <td>540</td>\n",
              "    </tr>\n",
              "    <tr>\n",
              "      <th>1</th>\n",
              "      <td>2</td>\n",
              "      <td>Souza Santos</td>\n",
              "      <td>1260</td>\n",
              "    </tr>\n",
              "    <tr>\n",
              "      <th>2</th>\n",
              "      <td>3</td>\n",
              "      <td>Emídio Alves</td>\n",
              "      <td>3195</td>\n",
              "    </tr>\n",
              "    <tr>\n",
              "      <th>3</th>\n",
              "      <td>4</td>\n",
              "      <td>Santos Costa</td>\n",
              "      <td>2520</td>\n",
              "    </tr>\n",
              "    <tr>\n",
              "      <th>4</th>\n",
              "      <td>5</td>\n",
              "      <td>Do Monteiro</td>\n",
              "      <td>3510</td>\n",
              "    </tr>\n",
              "  </tbody>\n",
              "</table>\n",
              "</div>"
            ],
            "text/plain": [
              "   ID Cliente             Cliente  Valor Contrato Mensal\n",
              "0           1  Teixeira Gonçalves                    540\n",
              "1           2        Souza Santos                   1260\n",
              "2           3        Emídio Alves                   3195\n",
              "3           4        Santos Costa                   2520\n",
              "4           5         Do Monteiro                   3510"
            ]
          },
          "metadata": {},
          "execution_count": 22
        }
      ]
    },
    {
      "cell_type": "code",
      "metadata": {
        "colab": {
          "base_uri": "https://localhost:8080/",
          "height": 203
        },
        "id": "C_gW8uWgpfqh",
        "outputId": "c05a8049-b292-46c7-dd81-cf11ff73c4ba"
      },
      "source": [
        "TabelaServicos.head()\n",
        "servicos_df = TabelaServicos.drop([\"Codigo do Servico\"], axis = 1)\n",
        "servicos_df.head()"
      ],
      "execution_count": 31,
      "outputs": [
        {
          "output_type": "execute_result",
          "data": {
            "text/html": [
              "<div>\n",
              "<style scoped>\n",
              "    .dataframe tbody tr th:only-of-type {\n",
              "        vertical-align: middle;\n",
              "    }\n",
              "\n",
              "    .dataframe tbody tr th {\n",
              "        vertical-align: top;\n",
              "    }\n",
              "\n",
              "    .dataframe thead th {\n",
              "        text-align: right;\n",
              "    }\n",
              "</style>\n",
              "<table border=\"1\" class=\"dataframe\">\n",
              "  <thead>\n",
              "    <tr style=\"text-align: right;\">\n",
              "      <th></th>\n",
              "      <th>ID Funcionário</th>\n",
              "      <th>ID Cliente</th>\n",
              "      <th>Tempo Total de Contrato (Meses)</th>\n",
              "    </tr>\n",
              "  </thead>\n",
              "  <tbody>\n",
              "    <tr>\n",
              "      <th>0</th>\n",
              "      <td>67</td>\n",
              "      <td>1</td>\n",
              "      <td>14</td>\n",
              "    </tr>\n",
              "    <tr>\n",
              "      <th>1</th>\n",
              "      <td>17</td>\n",
              "      <td>2</td>\n",
              "      <td>12</td>\n",
              "    </tr>\n",
              "    <tr>\n",
              "      <th>2</th>\n",
              "      <td>116</td>\n",
              "      <td>4</td>\n",
              "      <td>14</td>\n",
              "    </tr>\n",
              "    <tr>\n",
              "      <th>3</th>\n",
              "      <td>37</td>\n",
              "      <td>5</td>\n",
              "      <td>8</td>\n",
              "    </tr>\n",
              "    <tr>\n",
              "      <th>4</th>\n",
              "      <td>130</td>\n",
              "      <td>6</td>\n",
              "      <td>8</td>\n",
              "    </tr>\n",
              "  </tbody>\n",
              "</table>\n",
              "</div>"
            ],
            "text/plain": [
              "   ID Funcionário  ID Cliente  Tempo Total de Contrato (Meses)\n",
              "0              67           1                               14\n",
              "1              17           2                               12\n",
              "2             116           4                               14\n",
              "3              37           5                                8\n",
              "4             130           6                                8"
            ]
          },
          "metadata": {},
          "execution_count": 31
        }
      ]
    },
    {
      "cell_type": "markdown",
      "metadata": {
        "id": "wI5JgqbolIA7"
      },
      "source": [
        "Custo total com a Folha Salarial"
      ]
    },
    {
      "cell_type": "code",
      "metadata": {
        "colab": {
          "base_uri": "https://localhost:8080/"
        },
        "id": "J0a2_biIqS7B",
        "outputId": "de187dd2-20bc-427f-c7ef-bca03178015e"
      },
      "source": [
        "funcionarios_df.info()"
      ],
      "execution_count": 82,
      "outputs": [
        {
          "output_type": "stream",
          "text": [
            "<class 'pandas.core.frame.DataFrame'>\n",
            "RangeIndex: 114 entries, 0 to 113\n",
            "Data columns (total 9 columns):\n",
            " #   Column                Non-Null Count  Dtype  \n",
            "---  ------                --------------  -----  \n",
            " 0   ID Funcionário        114 non-null    int64  \n",
            " 1   Nome Completo         114 non-null    object \n",
            " 2   Salario Base          114 non-null    float64\n",
            " 3   Impostos              114 non-null    float64\n",
            " 4   Beneficios            114 non-null    float64\n",
            " 5   VT                    114 non-null    float64\n",
            " 6   VR                    114 non-null    float64\n",
            " 7   Area                  114 non-null    object \n",
            " 8   Custo Total da Folha  114 non-null    float64\n",
            "dtypes: float64(6), int64(1), object(2)\n",
            "memory usage: 8.1+ KB\n"
          ],
          "name": "stdout"
        }
      ]
    },
    {
      "cell_type": "code",
      "metadata": {
        "id": "f3fQsRCnqyfk"
      },
      "source": [
        "funcionarios_df\n",
        "#Converter para float: Impostos, Beneficios, VT e VR\n",
        "funcionarios_df['Impostos'] = funcionarios_df['Impostos'].apply(lambda x : str(x).replace(\",\",\".\"))\n",
        "funcionarios_df['Impostos'] = funcionarios_df[\"Impostos\"].astype(\"float64\")\n",
        "\n",
        "funcionarios_df['Beneficios'] = funcionarios_df['Beneficios'].apply(lambda x : str(x).replace(\",\",\".\"))\n",
        "funcionarios_df['Beneficios'] = funcionarios_df[\"Beneficios\"].astype(\"float64\")\n",
        "\n",
        "funcionarios_df['VR'] = funcionarios_df['VR'].apply(lambda x : str(x).replace(\",\",\".\"))\n",
        "funcionarios_df[\"VR\"] = funcionarios_df[\"VR\"].astype(\"float64\")\n",
        "\n",
        "funcionarios_df['Salario Base'] = funcionarios_df['Salario Base'].astype(\"float64\")\n",
        "funcionarios_df['VT'] = funcionarios_df['VT'].astype(\"float64\")"
      ],
      "execution_count": 55,
      "outputs": []
    },
    {
      "cell_type": "code",
      "metadata": {
        "colab": {
          "base_uri": "https://localhost:8080/"
        },
        "id": "VXnvgUbAxiHV",
        "outputId": "bd12e9ba-ea5c-48ef-cecd-0114cc11d0e3"
      },
      "source": [
        "funcionarios_df[\"Custo Total da Folha\"] = funcionarios_df['Salario Base']+funcionarios_df['VR']+funcionarios_df['VT']+funcionarios_df['Beneficios']+funcionarios_df['Impostos']\n",
        "print(\"Total da Folha Salarial mensal {:,}\".format(funcionarios_df['Custo Total da Folha'].sum()))"
      ],
      "execution_count": 57,
      "outputs": [
        {
          "output_type": "stream",
          "text": [
            "Total da Folha Salarial mensal 2,717,493.22\n"
          ],
          "name": "stdout"
        }
      ]
    },
    {
      "cell_type": "markdown",
      "metadata": {
        "id": "FhkWAC2Lyg2K"
      },
      "source": [
        "Calculando o Faturamento da Empresa"
      ]
    },
    {
      "cell_type": "code",
      "metadata": {
        "colab": {
          "base_uri": "https://localhost:8080/"
        },
        "id": "XGT1GOlTyjEa",
        "outputId": "114c66c3-f900-4060-d3b9-13a77c510594"
      },
      "source": [
        "TabelaClientes.info()"
      ],
      "execution_count": 61,
      "outputs": [
        {
          "output_type": "stream",
          "text": [
            "<class 'pandas.core.frame.DataFrame'>\n",
            "RangeIndex: 320 entries, 0 to 319\n",
            "Data columns (total 3 columns):\n",
            " #   Column                 Non-Null Count  Dtype \n",
            "---  ------                 --------------  ----- \n",
            " 0   ID Cliente             320 non-null    int64 \n",
            " 1   Cliente                320 non-null    object\n",
            " 2   Valor Contrato Mensal  320 non-null    int64 \n",
            "dtypes: int64(2), object(1)\n",
            "memory usage: 7.6+ KB\n"
          ],
          "name": "stdout"
        }
      ]
    },
    {
      "cell_type": "code",
      "metadata": {
        "colab": {
          "base_uri": "https://localhost:8080/"
        },
        "id": "mx2YdGm78IUV",
        "outputId": "984dbd48-7dce-4e8f-ee75-3abd3786d545"
      },
      "source": [
        "TabelaServicos.info()"
      ],
      "execution_count": 62,
      "outputs": [
        {
          "output_type": "stream",
          "text": [
            "<class 'pandas.core.frame.DataFrame'>\n",
            "RangeIndex: 237 entries, 0 to 236\n",
            "Data columns (total 4 columns):\n",
            " #   Column                           Non-Null Count  Dtype \n",
            "---  ------                           --------------  ----- \n",
            " 0   Codigo do Servico                237 non-null    object\n",
            " 1   ID Funcionário                   237 non-null    int64 \n",
            " 2   ID Cliente                       237 non-null    int64 \n",
            " 3   Tempo Total de Contrato (Meses)  237 non-null    int64 \n",
            "dtypes: int64(3), object(1)\n",
            "memory usage: 7.5+ KB\n"
          ],
          "name": "stdout"
        }
      ]
    },
    {
      "cell_type": "markdown",
      "metadata": {
        "id": "E9XQ47J98R-f"
      },
      "source": [
        "Como O tempo total de contrato e o valor de contrato estão no mesmo tipo é possível relacionar eles"
      ]
    },
    {
      "cell_type": "code",
      "metadata": {
        "id": "YN6d-P9Q8b56"
      },
      "source": [
        "servicos_df = TabelaServicos.copy()\n",
        "clientes_df = TabelaClientes.copy()"
      ],
      "execution_count": 63,
      "outputs": []
    },
    {
      "cell_type": "code",
      "metadata": {
        "colab": {
          "base_uri": "https://localhost:8080/"
        },
        "id": "lid8O2GR9ogO",
        "outputId": "434be6b6-ad3c-4f30-b6c1-dc870679cb4e"
      },
      "source": [
        "servicos_df['ID Cliente'].value_counts()"
      ],
      "execution_count": 64,
      "outputs": [
        {
          "output_type": "execute_result",
          "data": {
            "text/plain": [
              "311    2\n",
              "320    1\n",
              "101    1\n",
              "115    1\n",
              "113    1\n",
              "      ..\n",
              "208    1\n",
              "206    1\n",
              "205    1\n",
              "204    1\n",
              "1      1\n",
              "Name: ID Cliente, Length: 236, dtype: int64"
            ]
          },
          "metadata": {},
          "execution_count": 64
        }
      ]
    },
    {
      "cell_type": "code",
      "metadata": {
        "id": "W0Wy9TA6BEaJ"
      },
      "source": [
        "faturamentos_df = servicos_df[['ID Cliente', 'Tempo Total de Contrato (Meses)']].merge(clientes_df[['ID Cliente','Valor Contrato Mensal']], on = \"ID Cliente\")\n"
      ],
      "execution_count": 71,
      "outputs": []
    },
    {
      "cell_type": "code",
      "metadata": {
        "colab": {
          "base_uri": "https://localhost:8080/",
          "height": 417
        },
        "id": "ay-3iaTgCOvf",
        "outputId": "ffc33f79-e19a-4c7b-de87-aeafb5043d3d"
      },
      "source": [
        "display(faturamentos_df)"
      ],
      "execution_count": 72,
      "outputs": [
        {
          "output_type": "display_data",
          "data": {
            "text/html": [
              "<div>\n",
              "<style scoped>\n",
              "    .dataframe tbody tr th:only-of-type {\n",
              "        vertical-align: middle;\n",
              "    }\n",
              "\n",
              "    .dataframe tbody tr th {\n",
              "        vertical-align: top;\n",
              "    }\n",
              "\n",
              "    .dataframe thead th {\n",
              "        text-align: right;\n",
              "    }\n",
              "</style>\n",
              "<table border=\"1\" class=\"dataframe\">\n",
              "  <thead>\n",
              "    <tr style=\"text-align: right;\">\n",
              "      <th></th>\n",
              "      <th>ID Cliente</th>\n",
              "      <th>Tempo Total de Contrato (Meses)</th>\n",
              "      <th>Valor Contrato Mensal</th>\n",
              "    </tr>\n",
              "  </thead>\n",
              "  <tbody>\n",
              "    <tr>\n",
              "      <th>0</th>\n",
              "      <td>1</td>\n",
              "      <td>14</td>\n",
              "      <td>540</td>\n",
              "    </tr>\n",
              "    <tr>\n",
              "      <th>1</th>\n",
              "      <td>2</td>\n",
              "      <td>12</td>\n",
              "      <td>1260</td>\n",
              "    </tr>\n",
              "    <tr>\n",
              "      <th>2</th>\n",
              "      <td>4</td>\n",
              "      <td>14</td>\n",
              "      <td>2520</td>\n",
              "    </tr>\n",
              "    <tr>\n",
              "      <th>3</th>\n",
              "      <td>5</td>\n",
              "      <td>8</td>\n",
              "      <td>3510</td>\n",
              "    </tr>\n",
              "    <tr>\n",
              "      <th>4</th>\n",
              "      <td>6</td>\n",
              "      <td>8</td>\n",
              "      <td>2340</td>\n",
              "    </tr>\n",
              "    <tr>\n",
              "      <th>...</th>\n",
              "      <td>...</td>\n",
              "      <td>...</td>\n",
              "      <td>...</td>\n",
              "    </tr>\n",
              "    <tr>\n",
              "      <th>232</th>\n",
              "      <td>315</td>\n",
              "      <td>4</td>\n",
              "      <td>1575</td>\n",
              "    </tr>\n",
              "    <tr>\n",
              "      <th>233</th>\n",
              "      <td>316</td>\n",
              "      <td>8</td>\n",
              "      <td>3690</td>\n",
              "    </tr>\n",
              "    <tr>\n",
              "      <th>234</th>\n",
              "      <td>317</td>\n",
              "      <td>6</td>\n",
              "      <td>2385</td>\n",
              "    </tr>\n",
              "    <tr>\n",
              "      <th>235</th>\n",
              "      <td>319</td>\n",
              "      <td>14</td>\n",
              "      <td>4185</td>\n",
              "    </tr>\n",
              "    <tr>\n",
              "      <th>236</th>\n",
              "      <td>320</td>\n",
              "      <td>12</td>\n",
              "      <td>2430</td>\n",
              "    </tr>\n",
              "  </tbody>\n",
              "</table>\n",
              "<p>237 rows × 3 columns</p>\n",
              "</div>"
            ],
            "text/plain": [
              "     ID Cliente  Tempo Total de Contrato (Meses)  Valor Contrato Mensal\n",
              "0             1                               14                    540\n",
              "1             2                               12                   1260\n",
              "2             4                               14                   2520\n",
              "3             5                                8                   3510\n",
              "4             6                                8                   2340\n",
              "..          ...                              ...                    ...\n",
              "232         315                                4                   1575\n",
              "233         316                                8                   3690\n",
              "234         317                                6                   2385\n",
              "235         319                               14                   4185\n",
              "236         320                               12                   2430\n",
              "\n",
              "[237 rows x 3 columns]"
            ]
          },
          "metadata": {}
        }
      ]
    },
    {
      "cell_type": "code",
      "metadata": {
        "colab": {
          "base_uri": "https://localhost:8080/"
        },
        "id": "2W-PqT6uCWXt",
        "outputId": "29666e67-584b-4464-f808-9937aefef674"
      },
      "source": [
        "faturamentos_df['Faturamento Total'] = faturamentos_df['Tempo Total de Contrato (Meses)']*faturamentos_df['Valor Contrato Mensal']\n",
        "print(\"O faturamento total e R$ {:,} \". format(faturamentos_df['Faturamento Total'].sum()))"
      ],
      "execution_count": 77,
      "outputs": [
        {
          "output_type": "stream",
          "text": [
            "O faturamento total e R$ 5,519,160 \n"
          ],
          "name": "stdout"
        }
      ]
    },
    {
      "cell_type": "code",
      "metadata": {
        "colab": {
          "base_uri": "https://localhost:8080/",
          "height": 417
        },
        "id": "sv0QoYZXDRtR",
        "outputId": "93f125db-21c5-4ea3-86c3-02c57a3df2da"
      },
      "source": [
        "display(faturamentos_df)"
      ],
      "execution_count": 78,
      "outputs": [
        {
          "output_type": "display_data",
          "data": {
            "text/html": [
              "<div>\n",
              "<style scoped>\n",
              "    .dataframe tbody tr th:only-of-type {\n",
              "        vertical-align: middle;\n",
              "    }\n",
              "\n",
              "    .dataframe tbody tr th {\n",
              "        vertical-align: top;\n",
              "    }\n",
              "\n",
              "    .dataframe thead th {\n",
              "        text-align: right;\n",
              "    }\n",
              "</style>\n",
              "<table border=\"1\" class=\"dataframe\">\n",
              "  <thead>\n",
              "    <tr style=\"text-align: right;\">\n",
              "      <th></th>\n",
              "      <th>ID Cliente</th>\n",
              "      <th>Tempo Total de Contrato (Meses)</th>\n",
              "      <th>Valor Contrato Mensal</th>\n",
              "      <th>Faturamento Total</th>\n",
              "    </tr>\n",
              "  </thead>\n",
              "  <tbody>\n",
              "    <tr>\n",
              "      <th>0</th>\n",
              "      <td>1</td>\n",
              "      <td>14</td>\n",
              "      <td>540</td>\n",
              "      <td>7560</td>\n",
              "    </tr>\n",
              "    <tr>\n",
              "      <th>1</th>\n",
              "      <td>2</td>\n",
              "      <td>12</td>\n",
              "      <td>1260</td>\n",
              "      <td>15120</td>\n",
              "    </tr>\n",
              "    <tr>\n",
              "      <th>2</th>\n",
              "      <td>4</td>\n",
              "      <td>14</td>\n",
              "      <td>2520</td>\n",
              "      <td>35280</td>\n",
              "    </tr>\n",
              "    <tr>\n",
              "      <th>3</th>\n",
              "      <td>5</td>\n",
              "      <td>8</td>\n",
              "      <td>3510</td>\n",
              "      <td>28080</td>\n",
              "    </tr>\n",
              "    <tr>\n",
              "      <th>4</th>\n",
              "      <td>6</td>\n",
              "      <td>8</td>\n",
              "      <td>2340</td>\n",
              "      <td>18720</td>\n",
              "    </tr>\n",
              "    <tr>\n",
              "      <th>...</th>\n",
              "      <td>...</td>\n",
              "      <td>...</td>\n",
              "      <td>...</td>\n",
              "      <td>...</td>\n",
              "    </tr>\n",
              "    <tr>\n",
              "      <th>232</th>\n",
              "      <td>315</td>\n",
              "      <td>4</td>\n",
              "      <td>1575</td>\n",
              "      <td>6300</td>\n",
              "    </tr>\n",
              "    <tr>\n",
              "      <th>233</th>\n",
              "      <td>316</td>\n",
              "      <td>8</td>\n",
              "      <td>3690</td>\n",
              "      <td>29520</td>\n",
              "    </tr>\n",
              "    <tr>\n",
              "      <th>234</th>\n",
              "      <td>317</td>\n",
              "      <td>6</td>\n",
              "      <td>2385</td>\n",
              "      <td>14310</td>\n",
              "    </tr>\n",
              "    <tr>\n",
              "      <th>235</th>\n",
              "      <td>319</td>\n",
              "      <td>14</td>\n",
              "      <td>4185</td>\n",
              "      <td>58590</td>\n",
              "    </tr>\n",
              "    <tr>\n",
              "      <th>236</th>\n",
              "      <td>320</td>\n",
              "      <td>12</td>\n",
              "      <td>2430</td>\n",
              "      <td>29160</td>\n",
              "    </tr>\n",
              "  </tbody>\n",
              "</table>\n",
              "<p>237 rows × 4 columns</p>\n",
              "</div>"
            ],
            "text/plain": [
              "     ID Cliente  ...  Faturamento Total\n",
              "0             1  ...               7560\n",
              "1             2  ...              15120\n",
              "2             4  ...              35280\n",
              "3             5  ...              28080\n",
              "4             6  ...              18720\n",
              "..          ...  ...                ...\n",
              "232         315  ...               6300\n",
              "233         316  ...              29520\n",
              "234         317  ...              14310\n",
              "235         319  ...              58590\n",
              "236         320  ...              29160\n",
              "\n",
              "[237 rows x 4 columns]"
            ]
          },
          "metadata": {}
        }
      ]
    },
    {
      "cell_type": "markdown",
      "metadata": {
        "id": "b6pJJbfkDqtO"
      },
      "source": [
        "Qual o % de funcionários que já fechou algum contrato?"
      ]
    },
    {
      "cell_type": "code",
      "metadata": {
        "colab": {
          "base_uri": "https://localhost:8080/",
          "height": 340
        },
        "id": "kAcByGlsDrVw",
        "outputId": "76e53df0-5257-4d25-85d4-07f05cd890a9"
      },
      "source": [
        "funcionariosQueFecharamContratos = servicos_df['ID Funcionário'].value_counts()\n",
        "funcionariosQueFecharamContratos[:5].plot(kind = 'bar', figsize = (15,5))"
      ],
      "execution_count": 110,
      "outputs": [
        {
          "output_type": "execute_result",
          "data": {
            "text/plain": [
              "<matplotlib.axes._subplots.AxesSubplot at 0x7ff689bfdbd0>"
            ]
          },
          "metadata": {},
          "execution_count": 110
        },
        {
          "output_type": "display_data",
          "data": {
            "image/png": "[encoded data removed]",
            "text/plain": [
              "<Figure size 1080x360 with 1 Axes>"
            ]
          },
          "metadata": {
            "needs_background": "light"
          }
        }
      ]
    },
    {
      "cell_type": "code",
      "metadata": {
        "colab": {
          "base_uri": "https://localhost:8080/"
        },
        "id": "OsioqKYEGt-Z",
        "outputId": "9735aa25-5bd8-4a6a-e7ee-f3a87a58c9e8"
      },
      "source": [
        "totalFechado = len(funcionariosQueFecharamContratos)\n",
        "totalDeFuncionarios = len(funcionarios_df['ID Funcionário'])\n",
        "print(\"O percentual de funcionarios que ja fechou algum contrato foi de {:.1%}\".format(totalFechado/totalDeFuncionarios))"
      ],
      "execution_count": 109,
      "outputs": [
        {
          "output_type": "stream",
          "text": [
            "O percentual de funcionarios que ja fechou algum contrato foi de 86.8%\n"
          ],
          "name": "stdout"
        }
      ]
    },
    {
      "cell_type": "markdown",
      "metadata": {
        "id": "fV-38E0QJZC_"
      },
      "source": [
        "Calcule o total de contratos que cada área da empresa já fechou"
      ]
    },
    {
      "cell_type": "markdown",
      "metadata": {
        "id": "AjYwO75pKSQ0"
      },
      "source": [
        "Unindo a Tabela de servicos com a tabela de Funcionarios"
      ]
    },
    {
      "cell_type": "code",
      "metadata": {
        "colab": {
          "base_uri": "https://localhost:8080/",
          "height": 417
        },
        "id": "o1eZyo9gKRow",
        "outputId": "3d4a820f-9d08-4ec7-d7e0-0cc945f15fb2"
      },
      "source": [
        "contratoAreadf = servicos_df[['ID Funcionário']].merge(funcionarios_df[['ID Funcionário', 'Area']], on = 'ID Funcionário')\n",
        "contratoAreadf"
      ],
      "execution_count": 119,
      "outputs": [
        {
          "output_type": "execute_result",
          "data": {
            "text/html": [
              "<div>\n",
              "<style scoped>\n",
              "    .dataframe tbody tr th:only-of-type {\n",
              "        vertical-align: middle;\n",
              "    }\n",
              "\n",
              "    .dataframe tbody tr th {\n",
              "        vertical-align: top;\n",
              "    }\n",
              "\n",
              "    .dataframe thead th {\n",
              "        text-align: right;\n",
              "    }\n",
              "</style>\n",
              "<table border=\"1\" class=\"dataframe\">\n",
              "  <thead>\n",
              "    <tr style=\"text-align: right;\">\n",
              "      <th></th>\n",
              "      <th>ID Funcionário</th>\n",
              "      <th>Area</th>\n",
              "    </tr>\n",
              "  </thead>\n",
              "  <tbody>\n",
              "    <tr>\n",
              "      <th>0</th>\n",
              "      <td>67</td>\n",
              "      <td>Financeiro</td>\n",
              "    </tr>\n",
              "    <tr>\n",
              "      <th>1</th>\n",
              "      <td>67</td>\n",
              "      <td>Financeiro</td>\n",
              "    </tr>\n",
              "    <tr>\n",
              "      <th>2</th>\n",
              "      <td>67</td>\n",
              "      <td>Financeiro</td>\n",
              "    </tr>\n",
              "    <tr>\n",
              "      <th>3</th>\n",
              "      <td>67</td>\n",
              "      <td>Financeiro</td>\n",
              "    </tr>\n",
              "    <tr>\n",
              "      <th>4</th>\n",
              "      <td>17</td>\n",
              "      <td>Logística</td>\n",
              "    </tr>\n",
              "    <tr>\n",
              "      <th>...</th>\n",
              "      <td>...</td>\n",
              "      <td>...</td>\n",
              "    </tr>\n",
              "    <tr>\n",
              "      <th>232</th>\n",
              "      <td>25</td>\n",
              "      <td>Administrativo</td>\n",
              "    </tr>\n",
              "    <tr>\n",
              "      <th>233</th>\n",
              "      <td>79</td>\n",
              "      <td>Operações</td>\n",
              "    </tr>\n",
              "    <tr>\n",
              "      <th>234</th>\n",
              "      <td>99</td>\n",
              "      <td>Administrativo</td>\n",
              "    </tr>\n",
              "    <tr>\n",
              "      <th>235</th>\n",
              "      <td>14</td>\n",
              "      <td>Financeiro</td>\n",
              "    </tr>\n",
              "    <tr>\n",
              "      <th>236</th>\n",
              "      <td>72</td>\n",
              "      <td>Logística</td>\n",
              "    </tr>\n",
              "  </tbody>\n",
              "</table>\n",
              "<p>237 rows × 2 columns</p>\n",
              "</div>"
            ],
            "text/plain": [
              "     ID Funcionário            Area\n",
              "0                67      Financeiro\n",
              "1                67      Financeiro\n",
              "2                67      Financeiro\n",
              "3                67      Financeiro\n",
              "4                17       Logística\n",
              "..              ...             ...\n",
              "232              25  Administrativo\n",
              "233              79       Operações\n",
              "234              99  Administrativo\n",
              "235              14      Financeiro\n",
              "236              72       Logística\n",
              "\n",
              "[237 rows x 2 columns]"
            ]
          },
          "metadata": {},
          "execution_count": 119
        }
      ]
    },
    {
      "cell_type": "code",
      "metadata": {
        "colab": {
          "base_uri": "https://localhost:8080/",
          "height": 451
        },
        "id": "reqPZsjjLuuj",
        "outputId": "4560258a-4e20-4664-8cf3-372d2841a0df"
      },
      "source": [
        "contratosAreaQuantidade = contratoAreadf['Area'].value_counts()\n",
        "display(contratosAreaQuantidade)\n",
        "contratosAreaQuantidade.plot(kind = \"bar\")"
      ],
      "execution_count": 125,
      "outputs": [
        {
          "output_type": "display_data",
          "data": {
            "text/plain": [
              "Administrativo    63\n",
              "Operações         48\n",
              "Comercial         44\n",
              "Financeiro        42\n",
              "Logística         40\n",
              "Name: Area, dtype: int64"
            ]
          },
          "metadata": {}
        },
        {
          "output_type": "execute_result",
          "data": {
            "text/plain": [
              "<matplotlib.axes._subplots.AxesSubplot at 0x7ff688678450>"
            ]
          },
          "metadata": {},
          "execution_count": 125
        },
        {
          "output_type": "display_data",
          "data": {
            "image/png": "[encoded data removed]",
            "text/plain": [
              "<Figure size 432x288 with 1 Axes>"
            ]
          },
          "metadata": {
            "needs_background": "light"
          }
        }
      ]
    },
    {
      "cell_type": "markdown",
      "metadata": {
        "id": "3nWCAHFRMgxo"
      },
      "source": [
        "Quantos Funcionarios eu possuo em cada Area"
      ]
    },
    {
      "cell_type": "code",
      "metadata": {
        "colab": {
          "base_uri": "https://localhost:8080/",
          "height": 506
        },
        "id": "xY7rgnQWJZoJ",
        "outputId": "37c8a5fb-572d-4be4-a247-65ec6d0f0598"
      },
      "source": [
        "contratoPorArea = funcionarios_df['Area'].value_counts()\n",
        "display(contratoPorArea)\n",
        "contratoPorArea.plot(kind = \"bar\", figsize = (10,5))"
      ],
      "execution_count": 124,
      "outputs": [
        {
          "output_type": "display_data",
          "data": {
            "text/plain": [
              "Comercial         26\n",
              "Administrativo    26\n",
              "Operações         23\n",
              "Logística         21\n",
              "Financeiro        18\n",
              "Name: Area, dtype: int64"
            ]
          },
          "metadata": {}
        },
        {
          "output_type": "execute_result",
          "data": {
            "text/plain": [
              "<matplotlib.axes._subplots.AxesSubplot at 0x7ff688bfe6d0>"
            ]
          },
          "metadata": {},
          "execution_count": 124
        },
        {
          "output_type": "display_data",
          "data": {
            "image/png": "[encoded data removed]",
            "text/plain": [
              "<Figure size 720x360 with 1 Axes>"
            ]
          },
          "metadata": {
            "needs_background": "light"
          }
        }
      ]
    },
    {
      "cell_type": "markdown",
      "metadata": {
        "id": "ZJJZ4AMjN0Nw"
      },
      "source": [
        "Qual o ticket médio mensal (faturamento médio mensal) dos contratos?"
      ]
    },
    {
      "cell_type": "code",
      "metadata": {
        "colab": {
          "base_uri": "https://localhost:8080/"
        },
        "id": "wDZPCK8mN1EH",
        "outputId": "79541672-f233-437e-8d3b-02b965133368"
      },
      "source": [
        "ticketMedio = faturamentos_df['Valor Contrato Mensal'].mean()\n",
        "print(\"O ticket medio mensal dos contratos e de R$ {:,.2f}\".format(ticketMedio))"
      ],
      "execution_count": 140,
      "outputs": [
        {
          "output_type": "stream",
          "text": [
            "O ticket medio mensal dos contratos e de R$ 2,438.35\n"
          ],
          "name": "stdout"
        }
      ]
    }
  ]
}