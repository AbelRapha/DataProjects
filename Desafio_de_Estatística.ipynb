{
  "nbformat": 4,
  "nbformat_minor": 0,
  "metadata": {
    "colab": {
      "name": "Desafio de Estatística.ipynb",
      "provenance": [],
      "collapsed_sections": [],
      "authorship_tag": "ABX9TyNK6xCpJh8UrAwR1SZ8z3cm",
      "include_colab_link": true
    },
    "kernelspec": {
      "name": "python3",
      "display_name": "Python 3"
    },
    "language_info": {
      "name": "python"
    }
  },
  "cells": [
    {
      "cell_type": "markdown",
      "metadata": {
        "id": "view-in-github",
        "colab_type": "text"
      },
      "source": [
        "<a href=\"https://colab.research.google.com/github/AbelRapha/DataProjects/blob/main/Desafio_de_Estat%C3%ADstica.ipynb\" target=\"_parent\"><img src=\"https://colab.research.google.com/assets/colab-badge.svg\" alt=\"Open In Colab\"/></a>"
      ]
    },
    {
      "cell_type": "markdown",
      "metadata": {
        "id": "OdRyqIz4ns60"
      },
      "source": [
        "Entrada de dados\n",
        "\n"
      ]
    },
    {
      "cell_type": "code",
      "metadata": {
        "colab": {
          "base_uri": "https://localhost:8080/"
        },
        "id": "L3MzVyRvnyDs",
        "outputId": "a6120fe7-0353-422e-dadf-d2be8d5aaa93"
      },
      "source": [
        "from random import randint\n",
        "lista0 = [randint(1,10), randint(10,20)] #Definindo os parametros para range gerar um lista aleatoria\n",
        "lista1 = list(range(lista0[0],lista0[1],1))\n",
        "t = 0 #Criterio para escolha se sera variancia amostral ou populacional\n",
        "m1 = tipdesviop(tipo = t, lista = lista1)\n",
        "print(\"Desvio padrão populacional = {:.2f}\".format(m1))\n",
        "t = 1\n",
        "m1 = tipdesviop(tipo = t, lista = lista1)\n",
        "print(\"Desvio padrão amostral = {:.2f}\".format(m1))"
      ],
      "execution_count": 21,
      "outputs": [
        {
          "output_type": "stream",
          "text": [
            "Desvio padrão populacional = 15.00\n",
            "Desvio padrão amostral = 15.83\n"
          ],
          "name": "stdout"
        }
      ]
    },
    {
      "cell_type": "markdown",
      "metadata": {
        "id": "pMLFXhU6llU5"
      },
      "source": [
        "Criação da função de decisão\n"
      ]
    },
    {
      "cell_type": "code",
      "metadata": {
        "id": "k0kmhNallkLq"
      },
      "source": [
        "def tipdesviop(**par):\n",
        "  lista = par[\"lista\"]\n",
        "  tipo = par[\"tipo\"]\n",
        "\n",
        "  if (tipo == 0):\n",
        "    r = desvioPP(lista) #Calcula o desvio padrao populacional\n",
        "  else:\n",
        "    r = desvioPA(lista)  #Calcula o desvio padrao amostral\n",
        "  return r  "
      ],
      "execution_count": 7,
      "outputs": []
    },
    {
      "cell_type": "markdown",
      "metadata": {
        "id": "7Si10rDWm8Gj"
      },
      "source": [
        "Calculo da função de Média aritimética"
      ]
    },
    {
      "cell_type": "code",
      "metadata": {
        "id": "M-4zEM1im_34"
      },
      "source": [
        "def ma(lista):\n",
        "  soma = 0\n",
        "  n = len(lista) #verifica quantos elementos tem na lista\n",
        "  for i in lista:\n",
        "    soma += i #Adiciona o elemento da lista a variavel soma sucessivas vezes\n",
        "  total = soma/n #Calculo da media (Soma de todos os termos pela quantidade de termos)\n",
        "  return total  "
      ],
      "execution_count": 3,
      "outputs": []
    },
    {
      "cell_type": "markdown",
      "metadata": {
        "id": "C2U5VCmomlnW"
      },
      "source": [
        "Calculo da função SQD"
      ]
    },
    {
      "cell_type": "code",
      "metadata": {
        "id": "BdH1VGKHmqib"
      },
      "source": [
        "def calcSQD(lista):\n",
        "  med = ma(lista) #Calcula a media da lista\n",
        "  soma = 0\n",
        "  for i in lista:\n",
        "    soma = soma + (i-med)**2\n",
        "  return soma"
      ],
      "execution_count": 4,
      "outputs": []
    },
    {
      "cell_type": "markdown",
      "metadata": {
        "id": "uzFLO7sWs55x"
      },
      "source": [
        "Função que calcula desvio populacional"
      ]
    },
    {
      "cell_type": "code",
      "metadata": {
        "id": "JioJ1jlgh_zj"
      },
      "source": [
        "def desvioPP(lista):\n",
        "  soma = calcSQD(lista)\n",
        "  n = len(lista)\n",
        "  total = soma/n\n",
        "  desviopp = total**1/2\n",
        "  return desviopp"
      ],
      "execution_count": 9,
      "outputs": []
    },
    {
      "cell_type": "markdown",
      "metadata": {
        "id": "-6oqSvMWs-Rw"
      },
      "source": [
        "Função que calcula desvio amostral"
      ]
    },
    {
      "cell_type": "code",
      "metadata": {
        "id": "RzH0IJdcjNAq"
      },
      "source": [
        "def desvioPA(lista):\n",
        "  soma = calcSQD(lista)\n",
        "  n = len(lista)\n",
        "  total = soma/(n-1)\n",
        "  desviopp = total**1/2\n",
        "  return desviopp"
      ],
      "execution_count": 12,
      "outputs": []
    }
  ]
}