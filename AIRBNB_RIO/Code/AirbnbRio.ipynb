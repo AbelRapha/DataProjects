{
 "cells": [
  {
   "cell_type": "markdown",
   "source": [
    "# Projeto Airbnb Rio - Ferramento de Previsão de Preço de Imóvel para pessoas comuns\r\n",
    "<br>\r\n",
    "\r\n",
    "## *Contexto* \r\n",
    "<p> No Airbnb qualquer pessoa que tenha um quarto ou um imóvel de qualquer tipo (apartamento, casa, chalé, pousada, etc.) pode ofertar o seu imóvel alugando por alguma diária.</p>\r\n",
    "\r\n",
    "<p>Você cria o seu perfil de host(pessoa que disponibiliza um imóvel para aluguel por diária) e cria o anúncio do seu imóvel.</p>\r\n",
    "\r\n",
    "<p>Nesse anúncio, o host deve descrever as características do imóvel de forma mais completa possível, de forma a ajudar os locadores/viajantes a escolherem o melhor imóvel para eles (e de forma a tornar o anúncio mais atrativo)</p>\r\n",
    "\r\n",
    "<p>Existem dezenas de personalizações possíveis no anúncio, desde quantidade mínima de diária, preço, quantidade de quartos, até regras de cancelamento, taxa extra para hóspedes extras, exigências de verificação de identidade do locador, etc.</p>\r\n",
    "\r\n",
    "## *Nosso objetivo*\r\n",
    "\r\n",
    "Construir um modelo de previsão de preço que permita uma pessoa comum que possui um imóvel possa saber quanto deve cobrar pela diária do seu imóvel.\r\n",
    "\r\n",
    "Ou ainda, para o locador comum, dado o imóvel que ele está buscando, ajudar a saber se aquele imóvel está com preço atrativo (abaixo da média para imóveis com as mesmas características) ou não.\r\n",
    "\r\n",
    "## *O que temos disponível, inspirações e créditos*\r\n",
    "\r\n",
    "As bases de dados foram retiradas do site kaggle: https://www.kaggle.com/allanbruno/airbnb-rio-de-janeiro\r\n",
    "\r\n",
    "Elas estão disponíveis para download neste repositório (se você puxar os dados direto do Kaggle pode ser que encontre resultados diferentes dos meus, afinal as bases de dados podem ter sido atualizadas).\r\n",
    "\r\n",
    "Caso queira uma outra solução, podemos olhar como referência a solução do usuário Allan Bruno do kaggle no Notebook: https://www.kaggle.com/allanbruno/helping-regular-people-price-listings-on-airbnb\r\n",
    "\r\n",
    "Você vai perceber semelhanças entre a solução que vamos desenvolver aqui e a dele, mas também algumas diferenças significativas no processo de construção do projeto.\r\n",
    "\r\n",
    "- As bases de dados são os preços dos imóveis obtidos e suas respectivas características em cada mês.\r\n",
    "- Os preços são dados em reais (R$)\r\n",
    "- Temos bases de abril de 2018 a maio de 2020, com exceção de junho de 2018 que não possui base de dados\r\n",
    "\r\n",
    "## *Expectativas Iniciais*\r\n",
    "\r\n",
    "- Acredito que a sazonalidade pode ser um fator importante, visto que meses como dezembro costumam ser bem caros no RJ\r\n",
    "- A localização do imóvel deve fazer muita diferença no preço, já que no Rio de Janeiro a localização pode mudar completamente as características do lugar (segurança, beleza natural, pontos turísticos)\r\n",
    "- Adicionais/Comodidades podem ter um impacto significativo, visto que temos muitos prédios e casas antigos no Rio de Janeiro\r\n",
    "\r\n",
    "Vamos descobrir o quanto esses fatores impactam e se temos outros fatores não tão intuitivos que são extremamente importantes."
   ],
   "metadata": {}
  },
  {
   "cell_type": "markdown",
   "source": [
    "# __Importando as Bibliotecas e Bases de Dados__"
   ],
   "metadata": {}
  },
  {
   "cell_type": "code",
   "execution_count": 3,
   "source": [
    "import pandas as pd\r\n",
    "import pathlib"
   ],
   "outputs": [],
   "metadata": {}
  },
  {
   "cell_type": "code",
   "execution_count": 9,
   "source": [
    "caminho_bases = pathlib.Path(r'C:\\Users\\abel-\\Documents\\GIT\\DataProjects\\AIRBNB_RIO\\dataset')\r\n",
    "\r\n",
    "base_airbnb = pd.DataFrame()\r\n",
    "for arquivo in caminho_bases.iterdir():\r\n",
    "    df = pd.read_csv(caminho_bases / arquivo.name)\r\n",
    "    base_airbnb = base_airbnb.append(df)\r\n",
    "    \r\n",
    "display(base_airbnb)\r\n"
   ],
   "outputs": [
    {
     "output_type": "stream",
     "name": "stderr",
     "text": [
      "C:\\Users\\abel-\\anaconda3\\lib\\site-packages\\IPython\\core\\interactiveshell.py:3146: DtypeWarning: Columns (62,87) have mixed types.Specify dtype option on import or set low_memory=False.\n",
      "  has_raised = await self.run_ast_nodes(code_ast.body, cell_name,\n",
      "C:\\Users\\abel-\\anaconda3\\lib\\site-packages\\IPython\\core\\interactiveshell.py:3146: DtypeWarning: Columns (61,62,94) have mixed types.Specify dtype option on import or set low_memory=False.\n",
      "  has_raised = await self.run_ast_nodes(code_ast.body, cell_name,\n",
      "C:\\Users\\abel-\\anaconda3\\lib\\site-packages\\IPython\\core\\interactiveshell.py:3146: DtypeWarning: Columns (87) have mixed types.Specify dtype option on import or set low_memory=False.\n",
      "  has_raised = await self.run_ast_nodes(code_ast.body, cell_name,\n"
     ]
    }
   ],
   "metadata": {}
  }
 ],
 "metadata": {
  "orig_nbformat": 4,
  "language_info": {
   "name": "python",
   "version": "3.8.5",
   "mimetype": "text/x-python",
   "codemirror_mode": {
    "name": "ipython",
    "version": 3
   },
   "pygments_lexer": "ipython3",
   "nbconvert_exporter": "python",
   "file_extension": ".py"
  },
  "kernelspec": {
   "name": "python3",
   "display_name": "Python 3.8.5 64-bit ('base': conda)"
  },
  "interpreter": {
   "hash": "81e1b2cdcb6accb4548909fccfc95f2beb906f8060ecb95330b5e61ddc2659c5"
  }
 },
 "nbformat": 4,
 "nbformat_minor": 2
}